{
 "cells": [
  {
   "cell_type": "code",
   "execution_count": 1,
   "id": "210c1291-11a2-4dbe-a5d0-48e11006ceb2",
   "metadata": {},
   "outputs": [
    {
     "name": "stdout",
     "output_type": "stream",
     "text": [
      "Requirement already satisfied: Faker in c:\\users\\surjayandutta\\anaconda3\\envs\\synthetic_data\\lib\\site-packages (29.0.0)\n",
      "Requirement already satisfied: python-dateutil>=2.4 in c:\\users\\surjayandutta\\anaconda3\\envs\\synthetic_data\\lib\\site-packages (from Faker) (2.9.0.post0)\n",
      "Requirement already satisfied: six>=1.5 in c:\\users\\surjayandutta\\anaconda3\\envs\\synthetic_data\\lib\\site-packages (from python-dateutil>=2.4->Faker) (1.16.0)\n"
     ]
    }
   ],
   "source": [
    "!pip install Faker\n"
   ]
  },
  {
   "cell_type": "code",
   "execution_count": 2,
   "id": "1783d240-79ff-4e2e-9435-c36436832e2b",
   "metadata": {},
   "outputs": [],
   "source": [
    "from faker import Faker\n",
    "fake = Faker()"
   ]
  },
  {
   "cell_type": "code",
   "execution_count": 5,
   "id": "85888979-d238-4f56-9a5f-ebb02f16c0c4",
   "metadata": {},
   "outputs": [
    {
     "name": "stdout",
     "output_type": "stream",
     "text": [
      "Mallory Lucas\n"
     ]
    }
   ],
   "source": [
    "print(fake.name())"
   ]
  },
  {
   "cell_type": "code",
   "execution_count": 6,
   "id": "317a15b7-81ca-4389-8ead-01b0e36bc7e4",
   "metadata": {},
   "outputs": [
    {
     "name": "stdout",
     "output_type": "stream",
     "text": [
      "92398 Palmer Canyon\n",
      "North Joe, NC 00648\n"
     ]
    }
   ],
   "source": [
    "print(fake.address())"
   ]
  },
  {
   "cell_type": "code",
   "execution_count": 7,
   "id": "efca21ba-a823-4b68-8c65-51ea3e11b859",
   "metadata": {},
   "outputs": [
    {
     "name": "stdout",
     "output_type": "stream",
     "text": [
      "Steven Newton\n",
      "William Maxwell\n",
      "Jonathan Mckenzie\n",
      "James Martinez\n",
      "Troy Valdez\n"
     ]
    }
   ],
   "source": [
    "for _ in range(5):\n",
    "    print(fake.name())"
   ]
  },
  {
   "cell_type": "code",
   "execution_count": 8,
   "id": "48c11bed-f999-4645-97bd-041ae370e62b",
   "metadata": {},
   "outputs": [
    {
     "name": "stdout",
     "output_type": "stream",
     "text": [
      "063 Aaron Terrace\n",
      "East Thomashaven, OH 23134\n"
     ]
    }
   ],
   "source": [
    "print(fake.address())"
   ]
  },
  {
   "cell_type": "code",
   "execution_count": 9,
   "id": "ec09add6-1142-4944-9747-dc2daffa404e",
   "metadata": {},
   "outputs": [
    {
     "name": "stdout",
     "output_type": "stream",
     "text": [
      "mfletcher@example.com\n"
     ]
    }
   ],
   "source": [
    "print(fake.email()) "
   ]
  },
  {
   "cell_type": "code",
   "execution_count": 20,
   "id": "645de53a-defb-4d69-a449-873889626797",
   "metadata": {},
   "outputs": [],
   "source": [
    "from faker import Faker\n",
    "import pandas as pd\n",
    "import random"
   ]
  },
  {
   "cell_type": "code",
   "execution_count": 19,
   "id": "c064b039-f313-4aa6-8535-56a47b6d82de",
   "metadata": {},
   "outputs": [
    {
     "name": "stdout",
     "output_type": "stream",
     "text": [
      "Collecting gender-guesser\n",
      "  Downloading gender_guesser-0.4.0-py2.py3-none-any.whl.metadata (3.0 kB)\n",
      "Downloading gender_guesser-0.4.0-py2.py3-none-any.whl (379 kB)\n",
      "Installing collected packages: gender-guesser\n",
      "Successfully installed gender-guesser-0.4.0\n"
     ]
    }
   ],
   "source": [
    "!pip install gender-guesser"
   ]
  },
  {
   "cell_type": "code",
   "execution_count": 21,
   "id": "476302fe-c7d4-408f-a954-d98d5dc9333b",
   "metadata": {},
   "outputs": [],
   "source": [
    "import gender_guesser.detector as gender\n",
    "\n",
    "fake = Faker()\n",
    "gender_detector = gender.Detector()"
   ]
  },
  {
   "cell_type": "code",
   "execution_count": 27,
   "id": "d4761fcd-e6d4-4259-bc77-6679efe9eb0a",
   "metadata": {},
   "outputs": [],
   "source": [
    "# Function to generate gender-consistent names\n",
    "def get_gender_consistent_name(gender_code):\n",
    "    while True:\n",
    "        if gender_code == 'M':\n",
    "            first_name = fake.first_name_male()\n",
    "        else:\n",
    "            first_name = fake.first_name_female()\n",
    "        \n",
    "        # Guess gender by name using gender-guesser\n",
    "        guessed_gender = gender_detector.get_gender(first_name)\n",
    "        \n",
    "        # Check if the gender matches the code ('male' for 'M' and 'female' for 'F')\n",
    "        if (gender_code == 'M' and guessed_gender in ['male', 'mostly_male']) or \\\n",
    "           (gender_code == 'F' and guessed_gender in ['female', 'mostly_female']):\n",
    "            break\n",
    "\n",
    "    return first_name"
   ]
  },
  {
   "cell_type": "code",
   "execution_count": 26,
   "id": "de58e380-c377-4eac-9567-b5747a1aa10f",
   "metadata": {},
   "outputs": [],
   "source": [
    "# Function to generate a 10-digit US phone number\n",
    "def generate_us_phone_number():\n",
    "    # US phone number: (XXX) XXX-XXXX format\n",
    "    area_code = random.randint(200, 999)  # Valid area codes usually between 200-999\n",
    "    central_office_code = random.randint(200, 999)  # First digit can't be 0 or 1\n",
    "    line_number = random.randint(1000, 9999)  # The last 4 digits\n",
    "    return f\"({area_code}) {central_office_code}-{line_number}\""
   ]
  },
  {
   "cell_type": "code",
   "execution_count": 35,
   "id": "f2f7fe71-7e2e-4f4f-ad83-346d5f9bf4c7",
   "metadata": {},
   "outputs": [],
   "source": [
    "# Function to generate a more realistic email address\n",
    "def generate_email(first_name, last_name):\n",
    "    domains = ['gmail.com', 'yahoo.com', 'hotmail.com', 'outlook.com']\n",
    "    domain = random.choice(domains)\n",
    "    \n",
    "    # Create different variations of email using first name and last name\n",
    "    email_variations = [\n",
    "        f\"{first_name.lower()}.{last_name.lower()}@{domain}\",\n",
    "        f\"{first_name[0].lower()}{last_name.lower()}@{domain}\",\n",
    "        f\"{first_name.lower()}{last_name[0].lower()}@{domain}\",\n",
    "        f\"{first_name.lower()}{random.randint(1, 99)}@{domain}\",\n",
    "        f\"{first_name.lower()}_{last_name.lower()}@{domain}\",\n",
    "    ]\n",
    "    \n",
    "    return random.choice(email_variations)\n"
   ]
  },
  {
   "cell_type": "code",
   "execution_count": 58,
   "id": "c7e93eed-9ca8-4fcd-b9a7-f57b14ecf14b",
   "metadata": {},
   "outputs": [],
   "source": [
    "# Function to generate synthetic member data\n",
    "def generate_synthetic_data(num_rows):\n",
    "    data = []\n",
    "    \n",
    "    # Keep track of unique values for certain columns\n",
    "    member_ids = set()\n",
    "    group_ids = set()\n",
    "    benefit_ids = set()\n",
    "    phone_numbers = set()\n",
    "    emails = set()\n",
    "    \n",
    "    for _ in range(num_rows):\n",
    "        # Generate unique Member ID\n",
    "        while True:\n",
    "            member_id = random.randint(100000000, 999999999)\n",
    "            if member_id not in member_ids:\n",
    "                member_ids.add(member_id)\n",
    "                break\n",
    "        \n",
    "        # Generate unique Group ID related to Member ID\n",
    "        while True:\n",
    "            group_id = f\"{member_id}GP\"\n",
    "            if group_id not in group_ids:\n",
    "                group_ids.add(group_id)\n",
    "                break\n",
    "\n",
    "        # Generate unique Benefit ID\n",
    "        while True:\n",
    "            benefit_id = random.randint(100000, 999999)\n",
    "            if benefit_id not in benefit_ids:\n",
    "                benefit_ids.add(benefit_id)\n",
    "                break\n",
    "\n",
    "        # Generate Gender and ensure it's consistent with the name\n",
    "        gender_code = random.choice(['M', 'F'])\n",
    "        first_name = get_gender_consistent_name(gender_code)\n",
    "        last_name = fake.last_name()\n",
    "\n",
    "        # Ensure age is below 80 and above 0\n",
    "        birth_date = fake.date_of_birth(minimum_age=0, maximum_age=80)\n",
    "        \n",
    "        # Ensure unique 10-digit US phone number\n",
    "        while True:\n",
    "            phone_number = generate_us_phone_number()\n",
    "            if phone_number not in phone_numbers:\n",
    "                phone_numbers.add(phone_number)\n",
    "                break\n",
    "\n",
    "        #Generate a realistic emails\n",
    "        while True:\n",
    "            email = generate_email(first_name, last_name)\n",
    "            if email not in emails:\n",
    "                emails.add(email)\n",
    "                break\n",
    "        \n",
    "        # Financials\n",
    "        deductible_max = round(random.uniform(100, 1000), 2)\n",
    "        accumulated_deductible = round(random.uniform(0, deductible_max), 2)\n",
    "\n",
    "        oop_max = round(random.uniform(1000, 5000), 2)\n",
    "        accumulated_oop = round(random.uniform(0, oop_max), 2)\n",
    "        \n",
    "        # Append row to the data\n",
    "        data.append({\n",
    "            'Member_Id': member_id,\n",
    "            'Member_Dep_Num': random.randint(1, 100),\n",
    "            'Member_First_Name': first_name,\n",
    "            'Member_Last_Name': last_name,\n",
    "            'Member_Middle_Initial': fake.random_letter().upper(),\n",
    "            'Group_ID': group_id,\n",
    "            'Member_Address_Text': fake.street_address(),\n",
    "            'Member_City_Name': fake.city(),\n",
    "            'Member_County_Name': fake.city(),\n",
    "            'State_CD': fake.state_abbr(),\n",
    "            'State_Name': fake.state(),\n",
    "            'Member_Zip_Code': fake.zipcode(),\n",
    "            'Member_email_id': email,\n",
    "            'Member_phone_Number': phone_number,\n",
    "            'Gender_Code': gender_code,\n",
    "            'Member_Birth_Date': birth_date.strftime(\"%Y-%m-%d\"),\n",
    "            'Member_benefit_Id': benefit_id,\n",
    "            'Member_Benefit_Name': f'member_benefit_name_{member_id}',\n",
    "            'Deductible_Max': deductible_max,\n",
    "            'OOP_Max': oop_max,\n",
    "            'Accumulated_Deductable': accumulated_deductible,\n",
    "            'Accumulated_OOP': accumulated_oop\n",
    "        })\n",
    "\n",
    "    # Convert list to DataFrame\n",
    "    df = pd.DataFrame(data)\n",
    "    return df"
   ]
  },
  {
   "cell_type": "code",
   "execution_count": 60,
   "id": "9f5a07f5-60a4-478d-a1e7-2c420740427c",
   "metadata": {},
   "outputs": [
    {
     "name": "stdin",
     "output_type": "stream",
     "text": [
      "Enter the number of rows to generate:  5\n"
     ]
    },
    {
     "data": {
      "text/html": [
       "<div>\n",
       "<style scoped>\n",
       "    .dataframe tbody tr th:only-of-type {\n",
       "        vertical-align: middle;\n",
       "    }\n",
       "\n",
       "    .dataframe tbody tr th {\n",
       "        vertical-align: top;\n",
       "    }\n",
       "\n",
       "    .dataframe thead th {\n",
       "        text-align: right;\n",
       "    }\n",
       "</style>\n",
       "<table border=\"1\" class=\"dataframe\">\n",
       "  <thead>\n",
       "    <tr style=\"text-align: right;\">\n",
       "      <th></th>\n",
       "      <th>Member_Id</th>\n",
       "      <th>Member_Dep_Num</th>\n",
       "      <th>Member_First_Name</th>\n",
       "      <th>Member_Last_Name</th>\n",
       "      <th>Member_Middle_Initial</th>\n",
       "      <th>Group_ID</th>\n",
       "      <th>Member_Address_Text</th>\n",
       "      <th>Member_City_Name</th>\n",
       "      <th>Member_County_Name</th>\n",
       "      <th>State_CD</th>\n",
       "      <th>...</th>\n",
       "      <th>Member_email_id</th>\n",
       "      <th>Member_phone_Number</th>\n",
       "      <th>Gender_Code</th>\n",
       "      <th>Member_Birth_Date</th>\n",
       "      <th>Member_benefit_Id</th>\n",
       "      <th>Member_Benefit_Name</th>\n",
       "      <th>Deductible_Max</th>\n",
       "      <th>OOP_Max</th>\n",
       "      <th>Accumulated_Deductable</th>\n",
       "      <th>Accumulated_OOP</th>\n",
       "    </tr>\n",
       "  </thead>\n",
       "  <tbody>\n",
       "    <tr>\n",
       "      <th>0</th>\n",
       "      <td>905545360</td>\n",
       "      <td>49</td>\n",
       "      <td>Glenn</td>\n",
       "      <td>Nelson</td>\n",
       "      <td>H</td>\n",
       "      <td>905545360GP</td>\n",
       "      <td>9090 Lucas Plaza</td>\n",
       "      <td>South Kimberly</td>\n",
       "      <td>South Taylor</td>\n",
       "      <td>CA</td>\n",
       "      <td>...</td>\n",
       "      <td>glenn_nelson@hotmail.com</td>\n",
       "      <td>(541) 852-5211</td>\n",
       "      <td>M</td>\n",
       "      <td>1970-09-24</td>\n",
       "      <td>892124</td>\n",
       "      <td>member_benefit_name_905545360</td>\n",
       "      <td>428.93</td>\n",
       "      <td>3163.62</td>\n",
       "      <td>372.86</td>\n",
       "      <td>651.39</td>\n",
       "    </tr>\n",
       "    <tr>\n",
       "      <th>1</th>\n",
       "      <td>935904860</td>\n",
       "      <td>41</td>\n",
       "      <td>James</td>\n",
       "      <td>Martin</td>\n",
       "      <td>Z</td>\n",
       "      <td>935904860GP</td>\n",
       "      <td>38827 Jonathan Causeway</td>\n",
       "      <td>West Richardborough</td>\n",
       "      <td>Nixonstad</td>\n",
       "      <td>NH</td>\n",
       "      <td>...</td>\n",
       "      <td>jmartin@outlook.com</td>\n",
       "      <td>(217) 684-3646</td>\n",
       "      <td>M</td>\n",
       "      <td>2019-03-18</td>\n",
       "      <td>301963</td>\n",
       "      <td>member_benefit_name_935904860</td>\n",
       "      <td>371.36</td>\n",
       "      <td>4556.75</td>\n",
       "      <td>303.27</td>\n",
       "      <td>2407.36</td>\n",
       "    </tr>\n",
       "    <tr>\n",
       "      <th>2</th>\n",
       "      <td>543493589</td>\n",
       "      <td>28</td>\n",
       "      <td>Jason</td>\n",
       "      <td>Lopez</td>\n",
       "      <td>E</td>\n",
       "      <td>543493589GP</td>\n",
       "      <td>646 Henry Tunnel</td>\n",
       "      <td>Johnmouth</td>\n",
       "      <td>Lake Nancyhaven</td>\n",
       "      <td>KY</td>\n",
       "      <td>...</td>\n",
       "      <td>jasonl@yahoo.com</td>\n",
       "      <td>(671) 648-2400</td>\n",
       "      <td>M</td>\n",
       "      <td>1956-01-10</td>\n",
       "      <td>448677</td>\n",
       "      <td>member_benefit_name_543493589</td>\n",
       "      <td>539.17</td>\n",
       "      <td>4747.45</td>\n",
       "      <td>59.73</td>\n",
       "      <td>1497.43</td>\n",
       "    </tr>\n",
       "    <tr>\n",
       "      <th>3</th>\n",
       "      <td>406870381</td>\n",
       "      <td>16</td>\n",
       "      <td>Cindy</td>\n",
       "      <td>Lawson</td>\n",
       "      <td>Z</td>\n",
       "      <td>406870381GP</td>\n",
       "      <td>07478 Peters Roads</td>\n",
       "      <td>Port Christopherburgh</td>\n",
       "      <td>Jasminefurt</td>\n",
       "      <td>VA</td>\n",
       "      <td>...</td>\n",
       "      <td>cindy.lawson@hotmail.com</td>\n",
       "      <td>(287) 705-8648</td>\n",
       "      <td>F</td>\n",
       "      <td>2024-03-14</td>\n",
       "      <td>302353</td>\n",
       "      <td>member_benefit_name_406870381</td>\n",
       "      <td>898.31</td>\n",
       "      <td>4858.41</td>\n",
       "      <td>881.72</td>\n",
       "      <td>3618.37</td>\n",
       "    </tr>\n",
       "    <tr>\n",
       "      <th>4</th>\n",
       "      <td>213095044</td>\n",
       "      <td>49</td>\n",
       "      <td>Barbara</td>\n",
       "      <td>Davis</td>\n",
       "      <td>A</td>\n",
       "      <td>213095044GP</td>\n",
       "      <td>09993 Richard Pine Apt. 406</td>\n",
       "      <td>West Sarah</td>\n",
       "      <td>Lake Katie</td>\n",
       "      <td>PR</td>\n",
       "      <td>...</td>\n",
       "      <td>bdavis@yahoo.com</td>\n",
       "      <td>(831) 842-1244</td>\n",
       "      <td>F</td>\n",
       "      <td>1990-06-27</td>\n",
       "      <td>520995</td>\n",
       "      <td>member_benefit_name_213095044</td>\n",
       "      <td>180.32</td>\n",
       "      <td>3733.37</td>\n",
       "      <td>16.21</td>\n",
       "      <td>3410.94</td>\n",
       "    </tr>\n",
       "  </tbody>\n",
       "</table>\n",
       "<p>5 rows × 22 columns</p>\n",
       "</div>"
      ],
      "text/plain": [
       "   Member_Id  Member_Dep_Num Member_First_Name Member_Last_Name  \\\n",
       "0  905545360              49             Glenn           Nelson   \n",
       "1  935904860              41             James           Martin   \n",
       "2  543493589              28             Jason            Lopez   \n",
       "3  406870381              16             Cindy           Lawson   \n",
       "4  213095044              49           Barbara            Davis   \n",
       "\n",
       "  Member_Middle_Initial     Group_ID          Member_Address_Text  \\\n",
       "0                     H  905545360GP             9090 Lucas Plaza   \n",
       "1                     Z  935904860GP      38827 Jonathan Causeway   \n",
       "2                     E  543493589GP             646 Henry Tunnel   \n",
       "3                     Z  406870381GP           07478 Peters Roads   \n",
       "4                     A  213095044GP  09993 Richard Pine Apt. 406   \n",
       "\n",
       "        Member_City_Name Member_County_Name State_CD  ...  \\\n",
       "0         South Kimberly       South Taylor       CA  ...   \n",
       "1    West Richardborough          Nixonstad       NH  ...   \n",
       "2              Johnmouth    Lake Nancyhaven       KY  ...   \n",
       "3  Port Christopherburgh        Jasminefurt       VA  ...   \n",
       "4             West Sarah         Lake Katie       PR  ...   \n",
       "\n",
       "            Member_email_id Member_phone_Number Gender_Code Member_Birth_Date  \\\n",
       "0  glenn_nelson@hotmail.com      (541) 852-5211           M        1970-09-24   \n",
       "1       jmartin@outlook.com      (217) 684-3646           M        2019-03-18   \n",
       "2          jasonl@yahoo.com      (671) 648-2400           M        1956-01-10   \n",
       "3  cindy.lawson@hotmail.com      (287) 705-8648           F        2024-03-14   \n",
       "4          bdavis@yahoo.com      (831) 842-1244           F        1990-06-27   \n",
       "\n",
       "  Member_benefit_Id            Member_Benefit_Name  Deductible_Max  OOP_Max  \\\n",
       "0            892124  member_benefit_name_905545360          428.93  3163.62   \n",
       "1            301963  member_benefit_name_935904860          371.36  4556.75   \n",
       "2            448677  member_benefit_name_543493589          539.17  4747.45   \n",
       "3            302353  member_benefit_name_406870381          898.31  4858.41   \n",
       "4            520995  member_benefit_name_213095044          180.32  3733.37   \n",
       "\n",
       "   Accumulated_Deductable  Accumulated_OOP  \n",
       "0                  372.86           651.39  \n",
       "1                  303.27          2407.36  \n",
       "2                   59.73          1497.43  \n",
       "3                  881.72          3618.37  \n",
       "4                   16.21          3410.94  \n",
       "\n",
       "[5 rows x 22 columns]"
      ]
     },
     "execution_count": 60,
     "metadata": {},
     "output_type": "execute_result"
    }
   ],
   "source": [
    "num_rows = int(input(\"Enter the number of rows to generate: \"))\n",
    "generate_synthetic_data(num_rows)"
   ]
  },
  {
   "cell_type": "code",
   "execution_count": null,
   "id": "4f7db4cf-86bf-4c21-aa3c-0a6034f833cf",
   "metadata": {},
   "outputs": [],
   "source": []
  },
  {
   "cell_type": "code",
   "execution_count": null,
   "id": "94934d62-9600-4a91-9722-95119363ffac",
   "metadata": {},
   "outputs": [],
   "source": []
  },
  {
   "cell_type": "code",
   "execution_count": null,
   "id": "14ecfd40-d15f-485d-9d14-ee87cbd35bef",
   "metadata": {},
   "outputs": [],
   "source": []
  }
 ],
 "metadata": {
  "kernelspec": {
   "display_name": "synthetic_data",
   "language": "python",
   "name": "synthetic_data"
  },
  "language_info": {
   "codemirror_mode": {
    "name": "ipython",
    "version": 3
   },
   "file_extension": ".py",
   "mimetype": "text/x-python",
   "name": "python",
   "nbconvert_exporter": "python",
   "pygments_lexer": "ipython3",
   "version": "3.12.4"
  }
 },
 "nbformat": 4,
 "nbformat_minor": 5
}
