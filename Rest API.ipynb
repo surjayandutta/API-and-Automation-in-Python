{
 "cells": [
  {
   "cell_type": "code",
   "execution_count": 1,
   "id": "7381a680-888d-4215-97ab-25f102b04f00",
   "metadata": {},
   "outputs": [
    {
     "name": "stdout",
     "output_type": "stream",
     "text": [
      "Requirement already satisfied: requests in c:\\users\\004in2744\\anaconda3\\lib\\site-packages (2.31.0)\n",
      "Requirement already satisfied: charset-normalizer<4,>=2 in c:\\users\\004in2744\\anaconda3\\lib\\site-packages (from requests) (2.0.4)\n",
      "Requirement already satisfied: idna<4,>=2.5 in c:\\users\\004in2744\\anaconda3\\lib\\site-packages (from requests) (3.4)\n",
      "Requirement already satisfied: urllib3<3,>=1.21.1 in c:\\users\\004in2744\\anaconda3\\lib\\site-packages (from requests) (2.0.7)\n",
      "Requirement already satisfied: certifi>=2017.4.17 in c:\\users\\004in2744\\anaconda3\\lib\\site-packages (from requests) (2024.2.2)\n"
     ]
    }
   ],
   "source": [
    "!pip install requests"
   ]
  },
  {
   "cell_type": "code",
   "execution_count": 2,
   "id": "112a6471-28c5-4591-9c51-8f2ae0f0fdf2",
   "metadata": {},
   "outputs": [],
   "source": [
    "import requests"
   ]
  },
  {
   "cell_type": "code",
   "execution_count": 3,
   "id": "ad4056d9-2618-4d20-9c5f-5ec5b02b7da4",
   "metadata": {},
   "outputs": [],
   "source": [
    "  api_url = \"https://jsonplaceholder.typicode.com/todos/1\""
   ]
  },
  {
   "cell_type": "code",
   "execution_count": 4,
   "id": "c4cd9ec3-c519-4e79-8b24-5a153a8b273f",
   "metadata": {},
   "outputs": [],
   "source": [
    "response =  requests.get(api_url)"
   ]
  },
  {
   "cell_type": "code",
   "execution_count": 5,
   "id": "e66c3de1-75a4-4902-851d-ea0d557181c2",
   "metadata": {},
   "outputs": [
    {
     "data": {
      "text/plain": [
       "{'userId': 1, 'id': 1, 'title': 'delectus aut autem', 'completed': False}"
      ]
     },
     "execution_count": 5,
     "metadata": {},
     "output_type": "execute_result"
    }
   ],
   "source": [
    "response.json()"
   ]
  },
  {
   "cell_type": "code",
   "execution_count": 6,
   "id": "5ca8b667-70b0-47ba-ac9f-faac25b9cadd",
   "metadata": {},
   "outputs": [
    {
     "data": {
      "text/plain": [
       "200"
      ]
     },
     "execution_count": 6,
     "metadata": {},
     "output_type": "execute_result"
    }
   ],
   "source": [
    "response.status_code"
   ]
  },
  {
   "cell_type": "code",
   "execution_count": 7,
   "id": "e4201525-f8e2-4716-8ef8-64251b4f0f56",
   "metadata": {},
   "outputs": [
    {
     "data": {
      "text/plain": [
       "'application/json; charset=utf-8'"
      ]
     },
     "execution_count": 7,
     "metadata": {},
     "output_type": "execute_result"
    }
   ],
   "source": [
    "response.headers[\"Content-Type\"]"
   ]
  },
  {
   "cell_type": "code",
   "execution_count": 8,
   "id": "5d7facad-7877-48d3-96a9-e7bc53338f7f",
   "metadata": {},
   "outputs": [],
   "source": [
    "api_URL = \"https://jsonplaceholder.typicode.com/todos\""
   ]
  },
  {
   "cell_type": "code",
   "execution_count": 9,
   "id": "52a71697-cbc3-442a-b94a-0ee9ea84509a",
   "metadata": {},
   "outputs": [],
   "source": [
    "todo = {'userId':1, 'id':201 , 'title': 'Buy milk' , 'completed': False}"
   ]
  },
  {
   "cell_type": "code",
   "execution_count": 10,
   "id": "12219ff3-9d36-44d0-b218-be894b3d4652",
   "metadata": {},
   "outputs": [],
   "source": [
    "response_post = requests.post(api_URL, json = todo )"
   ]
  },
  {
   "cell_type": "code",
   "execution_count": 11,
   "id": "ae49dd5a-234d-4d68-9bbc-4adf1012497a",
   "metadata": {},
   "outputs": [
    {
     "data": {
      "text/plain": [
       "{'userId': 1, 'id': 201, 'title': 'Buy milk', 'completed': False}"
      ]
     },
     "execution_count": 11,
     "metadata": {},
     "output_type": "execute_result"
    }
   ],
   "source": [
    "response_post.json()"
   ]
  },
  {
   "cell_type": "code",
   "execution_count": 12,
   "id": "347be4d7-f9e5-4281-b2ea-5fc437d96c1e",
   "metadata": {},
   "outputs": [
    {
     "data": {
      "text/plain": [
       "201"
      ]
     },
     "execution_count": 12,
     "metadata": {},
     "output_type": "execute_result"
    }
   ],
   "source": [
    "response_post.status_code"
   ]
  },
  {
   "cell_type": "code",
   "execution_count": 13,
   "id": "990e0f41-9cd8-4c07-9ac0-f4d5a50c8d6e",
   "metadata": {},
   "outputs": [],
   "source": [
    "import requests\n",
    "import json\n",
    "api_url=\"https://jsonplaceholder.typicode.com/todos\"\n",
    "todo = {\"userID\":1, \"title\":\"Buy_MILK\", \"completed\": False}\n",
    "headers = {\"Content-Type\":\"application/json\"}\n",
    "response = requests.post(api_url, data = json.dumps(todo), headers=headers) "
   ]
  },
  {
   "cell_type": "code",
   "execution_count": 14,
   "id": "ccfb10f4-b66f-4738-83ea-e63fa879b60f",
   "metadata": {},
   "outputs": [
    {
     "data": {
      "text/plain": [
       "201"
      ]
     },
     "execution_count": 14,
     "metadata": {},
     "output_type": "execute_result"
    }
   ],
   "source": [
    "response.status_code"
   ]
  },
  {
   "cell_type": "code",
   "execution_count": 15,
   "id": "f7e92219-649c-4d25-8b92-f816dfa6d3dd",
   "metadata": {},
   "outputs": [
    {
     "data": {
      "text/plain": [
       "{'userId': 1,\n",
       " 'id': 10,\n",
       " 'title': 'illo est ratione doloremque quia maiores aut',\n",
       " 'completed': True}"
      ]
     },
     "execution_count": 15,
     "metadata": {},
     "output_type": "execute_result"
    }
   ],
   "source": [
    "api_url_put=\"https://jsonplaceholder.typicode.com/todos/10\"\n",
    "response = requests.get(api_url_put)\n",
    "response.json()"
   ]
  },
  {
   "cell_type": "code",
   "execution_count": 16,
   "id": "8d148b88-79f7-472f-b133-4e3b44b420b1",
   "metadata": {},
   "outputs": [
    {
     "data": {
      "text/plain": [
       "{'userId': 1, 'title': 'Wash Car', 'completed': True, 'id': 10}"
      ]
     },
     "execution_count": 16,
     "metadata": {},
     "output_type": "execute_result"
    }
   ],
   "source": [
    "update_data={\"userId\":1, \"title\":\"Wash Car\", \"completed\":True}\n",
    "response = requests.put(api_url_put, json=update_data)\n",
    "response.json()"
   ]
  },
  {
   "cell_type": "code",
   "execution_count": 17,
   "id": "c84cecb4-d1b4-4ff0-9f23-e31f4d22be3f",
   "metadata": {},
   "outputs": [
    {
     "data": {
      "text/plain": [
       "200"
      ]
     },
     "execution_count": 17,
     "metadata": {},
     "output_type": "execute_result"
    }
   ],
   "source": [
    " response.status_code"
   ]
  },
  {
   "cell_type": "code",
   "execution_count": 18,
   "id": "c447c833-6620-4f01-8d78-905174f96de6",
   "metadata": {},
   "outputs": [
    {
     "data": {
      "text/plain": [
       "{'userId': 1, 'id': 10, 'title': 'Mow lawn', 'completed': True}"
      ]
     },
     "execution_count": 18,
     "metadata": {},
     "output_type": "execute_result"
    }
   ],
   "source": [
    "api_url_patch=\"https://jsonplaceholder.typicode.com/todos/10\"\n",
    "todo = {\"title\": \"Mow lawn\"}\n",
    "response = requests.patch(api_url_patch, json=todo)\n",
    "response.json()"
   ]
  },
  {
   "cell_type": "code",
   "execution_count": 19,
   "id": "1950bff9-dd73-4e67-9910-3dee7d03d7a0",
   "metadata": {},
   "outputs": [
    {
     "data": {
      "text/plain": [
       "200"
      ]
     },
     "execution_count": 19,
     "metadata": {},
     "output_type": "execute_result"
    }
   ],
   "source": [
    "response.status_code"
   ]
  },
  {
   "cell_type": "code",
   "execution_count": 20,
   "id": "902bb9ed-7cc7-4a49-886e-4740d7c4c91b",
   "metadata": {},
   "outputs": [],
   "source": [
    "api_url_delete=\"https://jsonplaceholder.typicode.com/todos/10\"\n",
    "response = requests.delete(api_url_delete)"
   ]
  },
  {
   "cell_type": "code",
   "execution_count": 21,
   "id": "254609c7-4c33-4daf-9f5e-95edce26b518",
   "metadata": {},
   "outputs": [
    {
     "data": {
      "text/plain": [
       "{}"
      ]
     },
     "execution_count": 21,
     "metadata": {},
     "output_type": "execute_result"
    }
   ],
   "source": [
    "response.json()"
   ]
  },
  {
   "cell_type": "code",
   "execution_count": 22,
   "id": "42046001-543b-4f58-b177-9742eabae06b",
   "metadata": {},
   "outputs": [
    {
     "data": {
      "text/plain": [
       "200"
      ]
     },
     "execution_count": 22,
     "metadata": {},
     "output_type": "execute_result"
    }
   ],
   "source": [
    "response.status_code"
   ]
  },
  {
   "cell_type": "markdown",
   "id": "63d83d6e-4914-46e5-9e60-16a61b4cb6be",
   "metadata": {},
   "source": [
    "## Designing API\n",
    "\n",
    "REST stands for Representational State Transfer, and RESTful APIs are a set of architectural principles and constraints to design networked applications. RESTful APIs follow a client-server model, where the client sends requests to retrieve or manipulate resources on the server.\r\n",
    "\r\n",
    "RESTful APIs use HTTP methods such as GET, POST, PUT, and DELETE to interact with resources. These methods map to the basic CRUD (Create, Read, Update, Delete) operations, making it easy to create APIs that align with the standard data operations."
   ]
  },
  {
   "cell_type": "code",
   "execution_count": 23,
   "id": "c18e1e77-d75a-4050-b233-f15a2f6a8156",
   "metadata": {},
   "outputs": [
    {
     "name": "stdout",
     "output_type": "stream",
     "text": [
      "Requirement already satisfied: flask in c:\\users\\004in2744\\anaconda3\\lib\\site-packages (2.2.5)\n",
      "Requirement already satisfied: Werkzeug>=2.2.2 in c:\\users\\004in2744\\anaconda3\\lib\\site-packages (from flask) (2.2.3)\n",
      "Requirement already satisfied: Jinja2>=3.0 in c:\\users\\004in2744\\anaconda3\\lib\\site-packages (from flask) (3.1.3)\n",
      "Requirement already satisfied: itsdangerous>=2.0 in c:\\users\\004in2744\\anaconda3\\lib\\site-packages (from flask) (2.0.1)\n",
      "Requirement already satisfied: click>=8.0 in c:\\users\\004in2744\\anaconda3\\lib\\site-packages (from flask) (8.1.7)\n",
      "Requirement already satisfied: colorama in c:\\users\\004in2744\\anaconda3\\lib\\site-packages (from click>=8.0->flask) (0.4.6)\n",
      "Requirement already satisfied: MarkupSafe>=2.0 in c:\\users\\004in2744\\anaconda3\\lib\\site-packages (from Jinja2>=3.0->flask) (2.1.3)\n"
     ]
    }
   ],
   "source": [
    "!pip install flask"
   ]
  },
  {
   "cell_type": "code",
   "execution_count": 25,
   "id": "367ab631-8ffc-471b-865c-5cfc342d7237",
   "metadata": {},
   "outputs": [],
   "source": [
    "# %load \"flask_app.py\"\n",
    "from flask import Flask , jsonify , request \n",
    "\n",
    "app =  Flask(__name__)\n",
    "\n",
    "countries = [\n",
    "    { \"id\":1 , \"name\":\"Thailand\" ,  \"Capital\": \"Bangkok\", \"Area\" : 513120},\n",
    "    { \"id\":2 , \"name\":\"India\" ,  \"Capital\": \"Delhi\" , \"Area\" : 7617930},\n",
    "    { \"id\":3 , \"name\":\"Egypt\" , \"Capital\": \"Cairo\" , \"Area\" : 1010408},\n",
    "]\n",
    "\n",
    "def _find_next_id():\n",
    "    return max(country[\"id\"] for country in countries) +1  \n",
    "\n",
    "@app.get(\"/countries\")\n",
    "def get_countries():\n",
    "    return jsonify(countries)\n",
    "\n",
    "@app.post(\"/countries\") \n",
    "def add_country():\n",
    "    if request.is_json:\n",
    "        country = request.get_json()\n",
    "        country[\"id\"] = _find_next_id()\n",
    "        countries.append(country)\n",
    "        return country , 201\n",
    "    return { \" error\": \"request must be JSON\"} , 415\n",
    "\n",
    "@app.get(\"/country\")\n",
    "def get_country():\n",
    "    return countries[1]"
   ]
  },
  {
   "cell_type": "code",
   "execution_count": 26,
   "id": "fb35250f-fb42-46ee-920d-7085223372d8",
   "metadata": {},
   "outputs": [
    {
     "name": "stdout",
     "output_type": "stream",
     "text": [
      "Collecting fastapi\n",
      "  Downloading fastapi-0.112.3-py3-none-any.whl.metadata (27 kB)\n",
      "Collecting starlette<0.39.0,>=0.37.2 (from fastapi)\n",
      "  Downloading starlette-0.38.4-py3-none-any.whl.metadata (6.0 kB)\n",
      "Requirement already satisfied: pydantic!=1.8,!=1.8.1,!=2.0.0,!=2.0.1,!=2.1.0,<3.0.0,>=1.7.4 in c:\\users\\004in2744\\anaconda3\\lib\\site-packages (from fastapi) (1.10.12)\n",
      "Requirement already satisfied: typing-extensions>=4.8.0 in c:\\users\\004in2744\\anaconda3\\lib\\site-packages (from fastapi) (4.9.0)\n",
      "Requirement already satisfied: anyio<5,>=3.4.0 in c:\\users\\004in2744\\anaconda3\\lib\\site-packages (from starlette<0.39.0,>=0.37.2->fastapi) (4.2.0)\n",
      "Requirement already satisfied: idna>=2.8 in c:\\users\\004in2744\\anaconda3\\lib\\site-packages (from anyio<5,>=3.4.0->starlette<0.39.0,>=0.37.2->fastapi) (3.4)\n",
      "Requirement already satisfied: sniffio>=1.1 in c:\\users\\004in2744\\anaconda3\\lib\\site-packages (from anyio<5,>=3.4.0->starlette<0.39.0,>=0.37.2->fastapi) (1.3.0)\n",
      "Downloading fastapi-0.112.3-py3-none-any.whl (93 kB)\n",
      "   ---------------------------------------- 0.0/93.4 kB ? eta -:--:--\n",
      "   ------------- -------------------------- 30.7/93.4 kB 1.3 MB/s eta 0:00:01\n",
      "   ----------------------------------- ---- 81.9/93.4 kB 919.0 kB/s eta 0:00:01\n",
      "   ---------------------------------------- 93.4/93.4 kB 884.6 kB/s eta 0:00:00\n",
      "Downloading starlette-0.38.4-py3-none-any.whl (71 kB)\n",
      "   ---------------------------------------- 0.0/71.4 kB ? eta -:--:--\n",
      "   ---------------------------------------- 71.4/71.4 kB 3.8 MB/s eta 0:00:00\n",
      "Installing collected packages: starlette, fastapi\n",
      "Successfully installed fastapi-0.112.3 starlette-0.38.4\n"
     ]
    }
   ],
   "source": [
    "! pip install fastapi"
   ]
  },
  {
   "cell_type": "markdown",
   "id": "78f4d298-a813-4832-9f95-fc3ec4010d67",
   "metadata": {},
   "source": [
    "Pydantic is a capable library for data validation and settings management using Python type hints. A Pydantic model is a class that inherits from BaseModel. You define the fields of the model with type annotations, and Pydantic automatically validates the data."
   ]
  },
  {
   "cell_type": "code",
   "execution_count": 27,
   "id": "0c55c781-ad75-4efd-8ec3-9a989e5162df",
   "metadata": {},
   "outputs": [
    {
     "name": "stdout",
     "output_type": "stream",
     "text": [
      "Collecting uvicorn\n",
      "  Downloading uvicorn-0.30.6-py3-none-any.whl.metadata (6.6 kB)\n",
      "Requirement already satisfied: click>=7.0 in c:\\users\\004in2744\\anaconda3\\lib\\site-packages (from uvicorn) (8.1.7)\n",
      "Collecting h11>=0.8 (from uvicorn)\n",
      "  Downloading h11-0.14.0-py3-none-any.whl.metadata (8.2 kB)\n",
      "Requirement already satisfied: colorama in c:\\users\\004in2744\\anaconda3\\lib\\site-packages (from click>=7.0->uvicorn) (0.4.6)\n",
      "Downloading uvicorn-0.30.6-py3-none-any.whl (62 kB)\n",
      "   ---------------------------------------- 0.0/62.8 kB ? eta -:--:--\n",
      "   ------ --------------------------------- 10.2/62.8 kB ? eta -:--:--\n",
      "   -------------------------- ------------- 41.0/62.8 kB 495.5 kB/s eta 0:00:01\n",
      "   ---------------------------------------- 62.8/62.8 kB 674.3 kB/s eta 0:00:00\n",
      "Downloading h11-0.14.0-py3-none-any.whl (58 kB)\n",
      "   ---------------------------------------- 0.0/58.3 kB ? eta -:--:--\n",
      "   ---------------------------------------- 58.3/58.3 kB 1.5 MB/s eta 0:00:00\n",
      "Installing collected packages: h11, uvicorn\n",
      "Successfully installed h11-0.14.0 uvicorn-0.30.6\n"
     ]
    }
   ],
   "source": [
    "!pip install uvicorn\n"
   ]
  },
  {
   "cell_type": "code",
   "execution_count": 28,
   "id": "117d10e2-b43c-412d-8cdf-4907d4c055d9",
   "metadata": {},
   "outputs": [],
   "source": [
    "from fastapi import FastAPI\n",
    "from pydantic import BaseModel,Field \n",
    "import uvicorn"
   ]
  },
  {
   "cell_type": "code",
   "execution_count": 29,
   "id": "bf8aaffe-e733-4e56-b868-93d8ccfc9875",
   "metadata": {},
   "outputs": [],
   "source": [
    "# %load \"fast_api.py\"\n",
    "from fastapi import FastAPI\n",
    "from pydantic import BaseModel,Field \n",
    "import uvicorn\n",
    "app = FastAPI()\n",
    "\n",
    "def _find_next_id():\n",
    "    return max(country.country_id for country in countries) + 1\n",
    "\n",
    "class Country(BaseModel):\n",
    "    country_id: int = Field(default_factory=_find_next_id, alias=\"id\")\n",
    "    name: str\n",
    "    capital: str\n",
    "    area: int\n",
    "\n",
    "countries = [\n",
    "    Country(id=1, name=\"Thailand\" , capital=\"Bangkok\" , area=513120),\n",
    "    Country(id=2, name=\"Australia\" , capital=\"Canberra\" , area=7617930),\n",
    "    Country(id=3, name=\"Egypt\" , capital=\"Cairo\", area=1010408),\n",
    "]\n",
    "\n",
    "@app.get(\"/countries\")\n",
    "async def get_countries():\n",
    "    return countries \n",
    "\n",
    "@app.post(\"/countries\", status_code=201)\n",
    "async def add_country(country: Country):\n",
    "    countries.append(country)\n",
    "    return country"
   ]
  },
  {
   "cell_type": "code",
   "execution_count": null,
   "id": "b5641f04-0d95-4f14-82e5-746ad8560a2a",
   "metadata": {},
   "outputs": [],
   "source": []
  }
 ],
 "metadata": {
  "kernelspec": {
   "display_name": "Python 3 (ipykernel)",
   "language": "python",
   "name": "python3"
  },
  "language_info": {
   "codemirror_mode": {
    "name": "ipython",
    "version": 3
   },
   "file_extension": ".py",
   "mimetype": "text/x-python",
   "name": "python",
   "nbconvert_exporter": "python",
   "pygments_lexer": "ipython3",
   "version": "3.11.7"
  }
 },
 "nbformat": 4,
 "nbformat_minor": 5
}
